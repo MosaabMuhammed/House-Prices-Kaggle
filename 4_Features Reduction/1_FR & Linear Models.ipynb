{
 "cells": [
  {
   "cell_type": "markdown",
   "metadata": {},
   "source": [
    "<center><h1>Feature Reduction & Starter Models</h1></center>\n",
    "\n",
    "In this notebook, we'll try different techniques to reduce the number of dimensions of our data.<br><br>\n",
    "I'll try the following techniques:\n",
    "<br>\n",
    "\n",
    "**1. Feature Selection:**\n",
    "- Forward Feature Selection.\n",
    "- Backward Feature Selection.\n",
    "- Remove High Collinarity Features.\n",
    "- Recursive Feature Elimination method.\n",
    "- Nearest Neighbors for Feature Extraction.\n",
    "\n",
    "**2. Dimensionality Reduction:**\n",
    "- PCA.\n",
    "- ICA.\n",
    "- t-SNE.\n",
    "- UMAP.\n",
    "- Random Projection.\n",
    "- other."
   ]
  },
  {
   "cell_type": "markdown",
   "metadata": {},
   "source": [
    "For the starter models, I'll try the following models:<br>\n",
    "1. Linear Regression.\n",
    "1. Lasso.\n",
    "2. Ridge.\n",
    "3. Elastic Net.\n",
    "4. SVR.\n",
    "5. GaussianNB.\n",
    "6. KNeighborsRegressor.\n",
    "7. MLP.\n",
    "8. RandomForestRegressor.\n",
    "9. ExtraTreeRegressor.\n",
    "10. GTBM (Sklearn)\n",
    "11. XGBoost (Stanford).\n",
    "12. LightGBM (Microsoft).\n",
    "13. Catboost (Yandex).\n",
    "14. Average Stacking.\n",
    "15. Meta layer Stacking."
   ]
  },
  {
   "cell_type": "markdown",
   "metadata": {},
   "source": [
    "# Data Overview:\n",
    "## Import Libraries:"
   ]
  },
  {
   "cell_type": "code",
   "execution_count": 2,
   "metadata": {
    "ExecuteTime": {
     "end_time": "2019-10-14T15:08:51.520971Z",
     "start_time": "2019-10-14T15:08:51.427916Z"
    }
   },
   "outputs": [],
   "source": [
    "import pandas as pd\n",
    "import numpy as np\n",
    "import matplotlib.pyplot as plt\n",
    "import seaborn as sns\n",
    "from tqdm import tqdm_notebook as tqdm\n",
    "\n",
    "from util import *\n",
    "\n",
    "# Ignore warnings\n",
    "import warnings\n",
    "warnings.filterwarnings('ignore')"
   ]
  },
  {
   "cell_type": "markdown",
   "metadata": {},
   "source": [
    "## Read Data:"
   ]
  },
  {
   "cell_type": "code",
   "execution_count": 23,
   "metadata": {
    "ExecuteTime": {
     "end_time": "2019-10-14T15:33:50.802630Z",
     "start_time": "2019-10-14T15:33:50.104269Z"
    }
   },
   "outputs": [
    {
     "name": "stdout",
     "output_type": "stream",
     "text": [
      "~> [train] has \u001b[5m\u001b[7m\u001b[34m 1,408 \u001b[0m rows, and \u001b[5m\u001b[7m\u001b[34m 1,050 \u001b[0m columns.\n",
      "~> [test ] has \u001b[5m\u001b[7m\u001b[34m 1,459 \u001b[0m rows, and \u001b[5m\u001b[7m\u001b[34m 1,049 \u001b[0m columns.\n"
     ]
    }
   ],
   "source": [
    "train = pd.read_csv('../3_Feature Engineering/output/train_engineered.csv').dropna()\n",
    "test  = pd.read_csv('../3_Feature Engineering/output/test_engineered.csv')\n",
    "\n",
    "train_labels = train.SalePrice\n",
    "\n",
    "shape(train, test)"
   ]
  },
  {
   "cell_type": "markdown",
   "metadata": {},
   "source": [
    "# Feature Selection:\n",
    "## Remove High Correlated Features:"
   ]
  },
  {
   "cell_type": "code",
   "execution_count": 4,
   "metadata": {
    "ExecuteTime": {
     "end_time": "2019-10-14T15:14:01.254854Z",
     "start_time": "2019-10-14T15:13:57.116569Z"
    },
    "code_folding": []
   },
   "outputs": [
    {
     "name": "stdout",
     "output_type": "stream",
     "text": [
      "~> There are \u001b[5m\u001b[7m\u001b[34m 350 \u001b[0m columns to remove.  (;´༎ຶД༎ຶ`)\n"
     ]
    }
   ],
   "source": [
    "threshold = .9\n",
    "\n",
    "# Create correlation matrix\n",
    "corr = train.corr().abs()\n",
    "\n",
    "# Select upper triangle of correlation matrix\n",
    "upper = corr.where(np.triu(np.ones(corr.shape), k=1).astype(np.bool))\n",
    "\n",
    "# Select columns with correlations above threshold\n",
    "to_drop = [column for column in upper.columns if any(upper[column] > threshold)]\n",
    "\n",
    "print(f'~> There are {bg(len(to_drop))} columns to remove.  (;´༎ຶД༎ຶ`)')"
   ]
  },
  {
   "cell_type": "code",
   "execution_count": 5,
   "metadata": {
    "ExecuteTime": {
     "end_time": "2019-10-14T15:14:29.308731Z",
     "start_time": "2019-10-14T15:14:29.255894Z"
    }
   },
   "outputs": [
    {
     "data": {
      "text/html": [
       "<div>\n",
       "<style scoped>\n",
       "    .dataframe tbody tr th:only-of-type {\n",
       "        vertical-align: middle;\n",
       "    }\n",
       "\n",
       "    .dataframe tbody tr th {\n",
       "        vertical-align: top;\n",
       "    }\n",
       "\n",
       "    .dataframe thead th {\n",
       "        text-align: right;\n",
       "    }\n",
       "</style>\n",
       "<table border=\"1\" class=\"dataframe\">\n",
       "  <thead>\n",
       "    <tr style=\"text-align: right;\">\n",
       "      <th></th>\n",
       "      <th>GarageQual</th>\n",
       "      <th>GarageCond</th>\n",
       "      <th>onehot_LandSlope_3</th>\n",
       "      <th>onehot_ExterQual_4</th>\n",
       "      <th>onehot_HeatingQC_5</th>\n",
       "      <th>onehot_Electrical_5</th>\n",
       "      <th>onehot_FullBath_1</th>\n",
       "      <th>onehot_FullBath_2</th>\n",
       "      <th>onehot_HalfBath_1</th>\n",
       "      <th>onehot_PavedDrive_3</th>\n",
       "      <th>...</th>\n",
       "      <th>diff_GarageYrBlt_MoSold</th>\n",
       "      <th>diff_GarageYrBlt_YrSold</th>\n",
       "      <th>diff_MoSold_YearBuilt</th>\n",
       "      <th>diff_MoSold_YearRemodAdd</th>\n",
       "      <th>diff_MoSold_GarageYrBlt</th>\n",
       "      <th>diff_MoSold_YrSold</th>\n",
       "      <th>diff_YrSold_YearBuilt</th>\n",
       "      <th>diff_YrSold_YearRemodAdd</th>\n",
       "      <th>diff_YrSold_GarageYrBlt</th>\n",
       "      <th>diff_YrSold_MoSold</th>\n",
       "    </tr>\n",
       "  </thead>\n",
       "  <tbody>\n",
       "    <tr>\n",
       "      <th>0</th>\n",
       "      <td>3</td>\n",
       "      <td>3</td>\n",
       "      <td>1.0</td>\n",
       "      <td>1.0</td>\n",
       "      <td>1.0</td>\n",
       "      <td>1.0</td>\n",
       "      <td>0.0</td>\n",
       "      <td>1.0</td>\n",
       "      <td>1.0</td>\n",
       "      <td>1.0</td>\n",
       "      <td>...</td>\n",
       "      <td>2001.0</td>\n",
       "      <td>5.0</td>\n",
       "      <td>2001</td>\n",
       "      <td>2001</td>\n",
       "      <td>2001.0</td>\n",
       "      <td>2006</td>\n",
       "      <td>5</td>\n",
       "      <td>5</td>\n",
       "      <td>5.0</td>\n",
       "      <td>2006</td>\n",
       "    </tr>\n",
       "    <tr>\n",
       "      <th>1</th>\n",
       "      <td>3</td>\n",
       "      <td>3</td>\n",
       "      <td>1.0</td>\n",
       "      <td>0.0</td>\n",
       "      <td>1.0</td>\n",
       "      <td>1.0</td>\n",
       "      <td>0.0</td>\n",
       "      <td>1.0</td>\n",
       "      <td>0.0</td>\n",
       "      <td>1.0</td>\n",
       "      <td>...</td>\n",
       "      <td>1971.0</td>\n",
       "      <td>31.0</td>\n",
       "      <td>1971</td>\n",
       "      <td>1971</td>\n",
       "      <td>1971.0</td>\n",
       "      <td>2002</td>\n",
       "      <td>31</td>\n",
       "      <td>31</td>\n",
       "      <td>31.0</td>\n",
       "      <td>2002</td>\n",
       "    </tr>\n",
       "    <tr>\n",
       "      <th>2</th>\n",
       "      <td>3</td>\n",
       "      <td>3</td>\n",
       "      <td>1.0</td>\n",
       "      <td>1.0</td>\n",
       "      <td>1.0</td>\n",
       "      <td>1.0</td>\n",
       "      <td>0.0</td>\n",
       "      <td>1.0</td>\n",
       "      <td>1.0</td>\n",
       "      <td>1.0</td>\n",
       "      <td>...</td>\n",
       "      <td>1992.0</td>\n",
       "      <td>7.0</td>\n",
       "      <td>1992</td>\n",
       "      <td>1993</td>\n",
       "      <td>1992.0</td>\n",
       "      <td>1999</td>\n",
       "      <td>7</td>\n",
       "      <td>6</td>\n",
       "      <td>7.0</td>\n",
       "      <td>1999</td>\n",
       "    </tr>\n",
       "    <tr>\n",
       "      <th>3</th>\n",
       "      <td>3</td>\n",
       "      <td>3</td>\n",
       "      <td>1.0</td>\n",
       "      <td>0.0</td>\n",
       "      <td>0.0</td>\n",
       "      <td>1.0</td>\n",
       "      <td>1.0</td>\n",
       "      <td>0.0</td>\n",
       "      <td>0.0</td>\n",
       "      <td>1.0</td>\n",
       "      <td>...</td>\n",
       "      <td>1996.0</td>\n",
       "      <td>8.0</td>\n",
       "      <td>1913</td>\n",
       "      <td>1968</td>\n",
       "      <td>1996.0</td>\n",
       "      <td>2004</td>\n",
       "      <td>91</td>\n",
       "      <td>36</td>\n",
       "      <td>8.0</td>\n",
       "      <td>2004</td>\n",
       "    </tr>\n",
       "    <tr>\n",
       "      <th>4</th>\n",
       "      <td>3</td>\n",
       "      <td>3</td>\n",
       "      <td>1.0</td>\n",
       "      <td>1.0</td>\n",
       "      <td>1.0</td>\n",
       "      <td>1.0</td>\n",
       "      <td>0.0</td>\n",
       "      <td>1.0</td>\n",
       "      <td>1.0</td>\n",
       "      <td>1.0</td>\n",
       "      <td>...</td>\n",
       "      <td>1988.0</td>\n",
       "      <td>8.0</td>\n",
       "      <td>1988</td>\n",
       "      <td>1988</td>\n",
       "      <td>1988.0</td>\n",
       "      <td>1996</td>\n",
       "      <td>8</td>\n",
       "      <td>8</td>\n",
       "      <td>8.0</td>\n",
       "      <td>1996</td>\n",
       "    </tr>\n",
       "  </tbody>\n",
       "</table>\n",
       "<p>5 rows × 350 columns</p>\n",
       "</div>"
      ],
      "text/plain": [
       "   GarageQual  GarageCond  onehot_LandSlope_3  onehot_ExterQual_4  \\\n",
       "0           3           3                 1.0                 1.0   \n",
       "1           3           3                 1.0                 0.0   \n",
       "2           3           3                 1.0                 1.0   \n",
       "3           3           3                 1.0                 0.0   \n",
       "4           3           3                 1.0                 1.0   \n",
       "\n",
       "   onehot_HeatingQC_5  onehot_Electrical_5  onehot_FullBath_1  \\\n",
       "0                 1.0                  1.0                0.0   \n",
       "1                 1.0                  1.0                0.0   \n",
       "2                 1.0                  1.0                0.0   \n",
       "3                 0.0                  1.0                1.0   \n",
       "4                 1.0                  1.0                0.0   \n",
       "\n",
       "   onehot_FullBath_2  onehot_HalfBath_1  onehot_PavedDrive_3  ...  \\\n",
       "0                1.0                1.0                  1.0  ...   \n",
       "1                1.0                0.0                  1.0  ...   \n",
       "2                1.0                1.0                  1.0  ...   \n",
       "3                0.0                0.0                  1.0  ...   \n",
       "4                1.0                1.0                  1.0  ...   \n",
       "\n",
       "   diff_GarageYrBlt_MoSold  diff_GarageYrBlt_YrSold  diff_MoSold_YearBuilt  \\\n",
       "0                   2001.0                      5.0                   2001   \n",
       "1                   1971.0                     31.0                   1971   \n",
       "2                   1992.0                      7.0                   1992   \n",
       "3                   1996.0                      8.0                   1913   \n",
       "4                   1988.0                      8.0                   1988   \n",
       "\n",
       "   diff_MoSold_YearRemodAdd  diff_MoSold_GarageYrBlt  diff_MoSold_YrSold  \\\n",
       "0                      2001                   2001.0                2006   \n",
       "1                      1971                   1971.0                2002   \n",
       "2                      1993                   1992.0                1999   \n",
       "3                      1968                   1996.0                2004   \n",
       "4                      1988                   1988.0                1996   \n",
       "\n",
       "   diff_YrSold_YearBuilt  diff_YrSold_YearRemodAdd  diff_YrSold_GarageYrBlt  \\\n",
       "0                      5                         5                      5.0   \n",
       "1                     31                        31                     31.0   \n",
       "2                      7                         6                      7.0   \n",
       "3                     91                        36                      8.0   \n",
       "4                      8                         8                      8.0   \n",
       "\n",
       "   diff_YrSold_MoSold  \n",
       "0                2006  \n",
       "1                2002  \n",
       "2                1999  \n",
       "3                2004  \n",
       "4                1996  \n",
       "\n",
       "[5 rows x 350 columns]"
      ]
     },
     "execution_count": 5,
     "metadata": {},
     "output_type": "execute_result"
    }
   ],
   "source": [
    "train[to_drop].head()"
   ]
  },
  {
   "cell_type": "markdown",
   "metadata": {},
   "source": [
    "IMHO, maybe if we standardize/normalize these features, the result will differ.<br><br>\n",
    "The thing I know, I won't depend on these result thoroughly."
   ]
  },
  {
   "cell_type": "markdown",
   "metadata": {},
   "source": [
    "## Recursive Feature Elimination Method:\n",
    "For this notebook, I'll use RandomForest, to get some intuition about the features, but in the modeling section, I'll apply the same method for each model, and see how the result can differ."
   ]
  },
  {
   "cell_type": "code",
   "execution_count": 28,
   "metadata": {
    "ExecuteTime": {
     "end_time": "2019-10-14T15:36:10.576828Z",
     "start_time": "2019-10-14T15:36:10.570904Z"
    }
   },
   "outputs": [],
   "source": [
    "# First, Define our metric target\n",
    "from sklearn.metrics import mean_squared_error, make_scorer\n",
    "\n",
    "\n",
    "def rmse(X_test, y_pred):\n",
    "    return np.sqrt(mean_squared_error(X_test, y_pred))\n",
    "\n",
    "scorer = make_scorer(rmse, greater_is_better=False)"
   ]
  },
  {
   "cell_type": "code",
   "execution_count": 29,
   "metadata": {
    "ExecuteTime": {
     "end_time": "2019-10-14T15:36:11.840492Z",
     "start_time": "2019-10-14T15:36:11.836633Z"
    }
   },
   "outputs": [],
   "source": [
    "from sklearn.feature_selection import RFECV\n",
    "from sklearn.ensemble import RandomForestRegressor as RFR\n",
    "\n",
    "# train.drop('SalePrice', axis=1, inplace=True)\n",
    "\n",
    "# Create a model for feature selection\n",
    "estimator = RFR(random_state=10, n_estimators=100, n_jobs=-1)\n",
    "\n",
    "# Create the object\n",
    "selector = RFECV(estimator, step=1, cv=5, scoring=scorer, n_jobs=-1)"
   ]
  },
  {
   "cell_type": "code",
   "execution_count": null,
   "metadata": {
    "ExecuteTime": {
     "start_time": "2019-10-14T15:48:29.671Z"
    }
   },
   "outputs": [],
   "source": [
    "selector.fit(train.dropna(), train_labels)"
   ]
  },
  {
   "cell_type": "code",
   "execution_count": 24,
   "metadata": {
    "ExecuteTime": {
     "end_time": "2019-10-14T15:34:03.903485Z",
     "start_time": "2019-10-14T15:34:03.823768Z"
    }
   },
   "outputs": [
    {
     "name": "stdout",
     "output_type": "stream",
     "text": [
      "~> [test        ] has \u001b[5m\u001b[7m\u001b[34m 1,459 \u001b[0m rows, and \u001b[5m\u001b[7m\u001b[34m 1,049 \u001b[0m columns.\n"
     ]
    },
    {
     "ename": "IndexError",
     "evalue": "tuple index out of range",
     "output_type": "error",
     "traceback": [
      "\u001b[0;31m---------------------------------------------------------------------------\u001b[0m",
      "\u001b[0;31mIndexError\u001b[0m                                Traceback (most recent call last)",
      "\u001b[0;32m<ipython-input-24-dfe35813052c>\u001b[0m in \u001b[0;36m<module>\u001b[0;34m\u001b[0m\n\u001b[0;32m----> 1\u001b[0;31m \u001b[0mshape\u001b[0m\u001b[0;34m(\u001b[0m\u001b[0mtest\u001b[0m\u001b[0;34m,\u001b[0m \u001b[0mtrain_labels\u001b[0m\u001b[0;34m)\u001b[0m\u001b[0;34m\u001b[0m\u001b[0;34m\u001b[0m\u001b[0m\n\u001b[0m",
      "\u001b[0;32m/media/mosaab/Volume/Personal/Development/Courses Docs/Kaggle's Notebooks/0_My work/6_house Prices Regression/4_Features Reduction/util.py\u001b[0m in \u001b[0;36mshape\u001b[0;34m(*args)\u001b[0m\n\u001b[1;32m     35\u001b[0m         \u001b[0mmax_len\u001b[0m \u001b[0;34m=\u001b[0m \u001b[0mmax\u001b[0m\u001b[0;34m(\u001b[0m\u001b[0mlen\u001b[0m\u001b[0;34m(\u001b[0m\u001b[0mvar2str\u001b[0m\u001b[0;34m(\u001b[0m\u001b[0mdf\u001b[0m\u001b[0;34m)\u001b[0m\u001b[0;34m)\u001b[0m\u001b[0;34m,\u001b[0m \u001b[0mmax_len\u001b[0m\u001b[0;34m)\u001b[0m\u001b[0;34m\u001b[0m\u001b[0;34m\u001b[0m\u001b[0m\n\u001b[1;32m     36\u001b[0m     \u001b[0;32mfor\u001b[0m \u001b[0mdf\u001b[0m \u001b[0;32min\u001b[0m \u001b[0margs\u001b[0m\u001b[0;34m:\u001b[0m\u001b[0;34m\u001b[0m\u001b[0;34m\u001b[0m\u001b[0m\n\u001b[0;32m---> 37\u001b[0;31m         \u001b[0mprint\u001b[0m\u001b[0;34m(\u001b[0m\u001b[0;34mf'~> [{var2str(df).ljust(max_len)}] has {bg(df.shape[0])} rows, and {bg(df.shape[1])} columns.'\u001b[0m\u001b[0;34m)\u001b[0m\u001b[0;34m\u001b[0m\u001b[0;34m\u001b[0m\u001b[0m\n\u001b[0m\u001b[1;32m     38\u001b[0m \u001b[0;34m\u001b[0m\u001b[0m\n\u001b[1;32m     39\u001b[0m \u001b[0;34m\u001b[0m\u001b[0m\n",
      "\u001b[0;31mIndexError\u001b[0m: tuple index out of range"
     ]
    }
   ],
   "source": [
    "shape(test, train_labels)"
   ]
  },
  {
   "cell_type": "code",
   "execution_count": 25,
   "metadata": {
    "ExecuteTime": {
     "end_time": "2019-10-14T15:34:08.393088Z",
     "start_time": "2019-10-14T15:34:08.351777Z"
    }
   },
   "outputs": [
    {
     "data": {
      "text/plain": [
       "(1314, 1049)"
      ]
     },
     "execution_count": 25,
     "metadata": {},
     "output_type": "execute_result"
    }
   ],
   "source": [
    "test.dropna().shape"
   ]
  },
  {
   "cell_type": "code",
   "execution_count": 22,
   "metadata": {
    "ExecuteTime": {
     "end_time": "2019-10-14T15:33:28.901672Z",
     "start_time": "2019-10-14T15:33:28.893494Z"
    }
   },
   "outputs": [
    {
     "data": {
      "text/plain": [
       "(1460,)"
      ]
     },
     "execution_count": 22,
     "metadata": {},
     "output_type": "execute_result"
    }
   ],
   "source": [
    "train_labels.dropna().shape"
   ]
  },
  {
   "cell_type": "code",
   "execution_count": 26,
   "metadata": {
    "ExecuteTime": {
     "end_time": "2019-10-14T15:34:39.857060Z",
     "start_time": "2019-10-14T15:34:39.814747Z"
    }
   },
   "outputs": [
    {
     "data": {
      "text/plain": [
       "221"
      ]
     },
     "execution_count": 26,
     "metadata": {},
     "output_type": "execute_result"
    }
   ],
   "source": [
    "test.isnull().sum().sum()"
   ]
  },
  {
   "cell_type": "code",
   "execution_count": null,
   "metadata": {},
   "outputs": [],
   "source": [
    "temp = pd.read_csv('../')"
   ]
  },
  {
   "cell_type": "code",
   "execution_count": 31,
   "metadata": {
    "ExecuteTime": {
     "end_time": "2019-10-14T15:48:27.381043Z",
     "start_time": "2019-10-14T15:48:27.372859Z"
    }
   },
   "outputs": [
    {
     "data": {
      "text/plain": [
       "1"
      ]
     },
     "execution_count": 31,
     "metadata": {},
     "output_type": "execute_result"
    }
   ],
   "source": [
    "1"
   ]
  },
  {
   "cell_type": "code",
   "execution_count": null,
   "metadata": {},
   "outputs": [],
   "source": []
  },
  {
   "cell_type": "code",
   "execution_count": null,
   "metadata": {},
   "outputs": [],
   "source": []
  },
  {
   "cell_type": "code",
   "execution_count": null,
   "metadata": {},
   "outputs": [],
   "source": []
  },
  {
   "cell_type": "code",
   "execution_count": null,
   "metadata": {},
   "outputs": [],
   "source": []
  }
 ],
 "metadata": {
  "hide_input": false,
  "kernelspec": {
   "display_name": "Python 3",
   "language": "python",
   "name": "python3"
  },
  "language_info": {
   "codemirror_mode": {
    "name": "ipython",
    "version": 3
   },
   "file_extension": ".py",
   "mimetype": "text/x-python",
   "name": "python",
   "nbconvert_exporter": "python",
   "pygments_lexer": "ipython3",
   "version": "3.6.7"
  },
  "toc": {
   "base_numbering": 1,
   "nav_menu": {},
   "number_sections": true,
   "sideBar": true,
   "skip_h1_title": false,
   "title_cell": "Table of Contents",
   "title_sidebar": "Contents",
   "toc_cell": false,
   "toc_position": {},
   "toc_section_display": true,
   "toc_window_display": false
  },
  "varInspector": {
   "cols": {
    "lenName": 16,
    "lenType": 16,
    "lenVar": 40
   },
   "kernels_config": {
    "python": {
     "delete_cmd_postfix": "",
     "delete_cmd_prefix": "del ",
     "library": "var_list.py",
     "varRefreshCmd": "print(var_dic_list())"
    },
    "r": {
     "delete_cmd_postfix": ") ",
     "delete_cmd_prefix": "rm(",
     "library": "var_list.r",
     "varRefreshCmd": "cat(var_dic_list()) "
    }
   },
   "types_to_exclude": [
    "module",
    "function",
    "builtin_function_or_method",
    "instance",
    "_Feature"
   ],
   "window_display": false
  }
 },
 "nbformat": 4,
 "nbformat_minor": 2
}
