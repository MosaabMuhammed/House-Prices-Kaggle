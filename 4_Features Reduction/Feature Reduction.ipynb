{
 "cells": [
  {
   "cell_type": "markdown",
   "metadata": {},
   "source": [
    "<center><h1>Feature Reduction & Starter Models</h1></center>\n",
    "\n",
    "In this notebook, we'll try different techniques to reduce the number of dimensions of our data.<br><br>\n",
    "I'll try the following techniques:\n",
    "<br>\n",
    "\n",
    "**1. Feature Selection:**\n",
    "- Forward Feature Selection.\n",
    "- Backward Feature Selection.\n",
    "- Remove High Collinarity Features.\n",
    "- Recursive Feature Elimination method.\n",
    "- Nearest Neighbors for Feature Extraction.\n",
    "\n",
    "**2. Dimensionality Reduction:**\n",
    "- PCA.\n",
    "- ICA.\n",
    "- t-SNE.\n",
    "- UMAP.\n",
    "- Random Projection.\n",
    "- other."
   ]
  },
  {
   "cell_type": "markdown",
   "metadata": {},
   "source": [
    "For the starter models, I'll try the following models:<br>\n",
    "1. Linear Regression.\n",
    "1. Lasso.\n",
    "2. Ridge.\n",
    "3. Elastic Net.\n",
    "4. SVR.\n",
    "5. GaussianNB.\n",
    "6. KNeighborsRegressor.\n",
    "7. MLP.\n",
    "8. RandomForestRegressor.\n",
    "9. ExtraTreeRegressor.\n",
    "10. GTBM (Sklearn)\n",
    "11. XGBoost (Stanford).\n",
    "12. LightGBM (Microsoft).\n",
    "13. Catboost (Yandex).\n",
    "14. Average Stacking.\n",
    "15. Meta layer Stacking."
   ]
  },
  {
   "cell_type": "markdown",
   "metadata": {},
   "source": [
    "# Data Overview:\n",
    "## Import Libraries:"
   ]
  },
  {
   "cell_type": "code",
   "execution_count": 1,
   "metadata": {
    "ExecuteTime": {
     "end_time": "2019-10-19T12:15:58.209582Z",
     "start_time": "2019-10-19T12:15:52.016337Z"
    }
   },
   "outputs": [],
   "source": [
    "import pandas as pd\n",
    "import numpy as np\n",
    "import matplotlib.pyplot as plt\n",
    "import seaborn as sns\n",
    "import pickle\n",
    "from tqdm import tqdm_notebook as tqdm\n",
    "\n",
    "from util import *\n",
    "\n",
    "# Ignore warnings\n",
    "import warnings\n",
    "warnings.filterwarnings('ignore')"
   ]
  },
  {
   "cell_type": "markdown",
   "metadata": {},
   "source": [
    "## Read Data:"
   ]
  },
  {
   "cell_type": "code",
   "execution_count": 2,
   "metadata": {
    "ExecuteTime": {
     "end_time": "2019-10-19T12:17:07.245986Z",
     "start_time": "2019-10-19T12:17:05.427913Z"
    }
   },
   "outputs": [
    {
     "name": "stdout",
     "output_type": "stream",
     "text": [
      "~> [train] has \u001b[5m\u001b[7m\u001b[34m 1,460 \u001b[0m rows, and \u001b[5m\u001b[7m\u001b[34m 1,178 \u001b[0m columns.\n",
      "~> [test ] has \u001b[5m\u001b[7m\u001b[34m 1,459 \u001b[0m rows, and \u001b[5m\u001b[7m\u001b[34m 1,178 \u001b[0m columns.\n"
     ]
    }
   ],
   "source": [
    "train = pd.read_csv('../3_Feature Engineering/output/train_engineered.csv').dropna()\n",
    "test  = pd.read_csv('../3_Feature Engineering/output/test_engineered.csv')\n",
    "\n",
    "train_labels = train.SalePrice\n",
    "train_ids    = train.Id\n",
    "test_ids     = test.Id\n",
    "\n",
    "train.drop(['Id', 'SalePrice'], axis=1, inplace=True)\n",
    "test.drop('Id', axis=1, inplace=True)\n",
    "\n",
    "shape(train, test)"
   ]
  },
  {
   "cell_type": "code",
   "execution_count": 3,
   "metadata": {
    "ExecuteTime": {
     "end_time": "2019-10-19T12:17:35.516498Z",
     "start_time": "2019-10-19T12:17:35.406457Z"
    }
   },
   "outputs": [],
   "source": [
    "ord_cols  = ['LandSlope', 'OverallQual', 'OverallCond', 'ExterQual', 'ExterCond', 'BsmtExposure', \n",
    "             'BsmtFinType1', 'BsmtCond', 'BsmtQual', 'BsmtFinType2', 'HeatingQC', 'Electrical', \n",
    "             'BsmtFullBath', 'BsmtHalfBath', 'FullBath', 'HalfBath', 'KitchenQual', 'TotRmsAbvGrd', 'Functional',\n",
    "             'Fireplaces', 'FireplaceQu', 'GarageFinish', 'GarageCars', 'GarageQual', 'GarageCond', 'PavedDrive',\n",
    "             'PoolQC', 'BedroomAbvGr', 'KitchenAbvGr']\n",
    "cat_cols  = ['MSSubClass', 'MSZoning', 'Alley', 'LotShape', 'LandContour', 'LotConfig', \n",
    "            'Neighborhood', 'Condition1', 'Condition2', 'BldgType', 'RoofStyle', 'RoofMatl', 'Exterior1st',\n",
    "            'Exterior2nd', 'MasVnrType', 'Foundation', 'Heating', 'GarageType', 'MiscFeature', 'SaleType', \n",
    "             'SaleCondition', 'HouseStyle', 'Fence', 'CentralAir']\n",
    "num_cols  = ['LotFrontage', 'LotArea', 'MasVnrArea', 'BsmtFinSF1', 'BsmtFinSF2', 'BsmtUnfSF', 'TotalBsmtSF',\n",
    "            '1stFlrSF', '2ndFlrSF', 'LowQualFinSF', 'GrLivArea', 'GarageArea', 'WoodDeckSF', 'OpenPorchSF',\n",
    "            'EnclosedPorch', '3SsnPorch', 'ScreenPorch']\n",
    "date_cols = ['YearBuilt', 'YearRemodAdd', 'GarageYrBlt', 'MoSold', 'YrSold']\n",
    "\n",
    "# Load the name of the column.\n",
    "with open('../3_Feature Engineering/freq_cols.pkl', 'rb') as f: \n",
    "    freq_cols = pickle.load(f)\n",
    "    \n",
    "with open('../3_Feature Engineering/log_cols.pkl', 'rb') as f:\n",
    "    log_cols = pickle.load(f)\n",
    "    \n",
    "with open('../3_Feature Engineering/diff_cols.pkl', 'rb') as f:\n",
    "    diff_cols = pickle.load(f)\n",
    "    \n",
    "with open('../3_Feature Engineering/onehot_cols.pkl', 'rb') as f:\n",
    "    onehot_cols = pickle.load(f)\n",
    "    \n",
    "with open('../3_Feature Engineering/poly_cols.pkl', 'rb') as f:\n",
    "    poly_cols = pickle.load(f)\n",
    "    \n",
    "with open('../3_Feature Engineering/sqrt_cols.pkl', 'rb') as f:\n",
    "    sqrt_cols = pickle.load(f)\n",
    "    \n",
    "with open('../3_Feature Engineering/target_enc_cols.pkl', 'rb') as f:\n",
    "    target_enc_cols = pickle.load(f)\n",
    "\n",
    "with open('../3_Feature Engineering/thrmos_cols.pkl', 'rb') as f:\n",
    "    thrmos_cols = pickle.load(f)"
   ]
  },
  {
   "cell_type": "code",
   "execution_count": 16,
   "metadata": {
    "ExecuteTime": {
     "end_time": "2019-10-19T12:23:11.634967Z",
     "start_time": "2019-10-19T12:23:11.484327Z"
    }
   },
   "outputs": [
    {
     "name": "stdout",
     "output_type": "stream",
     "text": [
      "~> \u001b[5mthrmos_cols\u001b[0m     has \u001b[5m138\u001b[0m features.\n",
      "~> \u001b[5mtarget_enc_cols\u001b[0m has \u001b[5m318\u001b[0m features.\n",
      "~> \u001b[5msqrt_cols\u001b[0m       has \u001b[5m17\u001b[0m features.\n",
      "~> \u001b[5mpoly_cols\u001b[0m       has \u001b[5m288\u001b[0m features.\n",
      "~> \u001b[5monehot_cols\u001b[0m     has \u001b[5m260\u001b[0m features.\n",
      "~> \u001b[5mfreq_cols\u001b[0m       has \u001b[5m53\u001b[0m features.\n",
      "~> \u001b[5mdiff_cols\u001b[0m       has \u001b[5m12\u001b[0m features.\n",
      "~> \u001b[5mcat_cols\u001b[0m        has \u001b[5m24\u001b[0m features.\n",
      "~> \u001b[5mnum_cols\u001b[0m        has \u001b[5m17\u001b[0m features.\n",
      "~> \u001b[5mdate_cols\u001b[0m       has \u001b[5m5\u001b[0m features.\n"
     ]
    }
   ],
   "source": [
    "# See how many features in each list\n",
    "for lst in [thrmos_cols, target_enc_cols, sqrt_cols, poly_cols, onehot_cols, freq_cols, diff_cols, cat_cols, num_cols, date_cols]:\n",
    "    print(f'~> {colored(var2str(lst), attrs=[\"blink\"]).ljust(23)} has {colored(len(lst), attrs=[\"blink\"])} features.')"
   ]
  },
  {
   "cell_type": "markdown",
   "metadata": {},
   "source": [
    "# Feature Selection:\n",
    "## Remove High Correlated Features:"
   ]
  },
  {
   "cell_type": "code",
   "execution_count": 29,
   "metadata": {
    "ExecuteTime": {
     "end_time": "2019-10-19T13:02:08.661437Z",
     "start_time": "2019-10-19T13:02:04.151673Z"
    },
    "code_folding": []
   },
   "outputs": [
    {
     "name": "stdout",
     "output_type": "stream",
     "text": [
      "~> There are \u001b[5m\u001b[7m\u001b[34m 414 \u001b[0m columns to remove.  (;´༎ຶД༎ຶ`)\n"
     ]
    }
   ],
   "source": [
    "threshold = .9\n",
    "\n",
    "# Create correlation matrix\n",
    "corr = train.corr().abs()\n",
    "\n",
    "# Select upper triangle of correlation matrix\n",
    "upper = corr.where(np.triu(np.ones(corr.shape), k=1).astype(np.bool))\n",
    "\n",
    "# Select columns with correlations above threshold\n",
    "to_drop = [column for column in upper.columns if any(upper[column] > threshold)]\n",
    "\n",
    "print(f'~> There are {bg(len(to_drop))} columns to remove.  (;´༎ຶД༎ຶ`)')"
   ]
  },
  {
   "cell_type": "code",
   "execution_count": 30,
   "metadata": {
    "ExecuteTime": {
     "end_time": "2019-10-19T13:02:16.621456Z",
     "start_time": "2019-10-19T13:02:16.531437Z"
    }
   },
   "outputs": [
    {
     "data": {
      "text/html": [
       "<div>\n",
       "<style scoped>\n",
       "    .dataframe tbody tr th:only-of-type {\n",
       "        vertical-align: middle;\n",
       "    }\n",
       "\n",
       "    .dataframe tbody tr th {\n",
       "        vertical-align: top;\n",
       "    }\n",
       "\n",
       "    .dataframe thead th {\n",
       "        text-align: right;\n",
       "    }\n",
       "</style>\n",
       "<table border=\"1\" class=\"dataframe\">\n",
       "  <thead>\n",
       "    <tr style=\"text-align: right;\">\n",
       "      <th></th>\n",
       "      <th>GarageQual</th>\n",
       "      <th>GarageCond</th>\n",
       "      <th>onehot_LandSlope_3</th>\n",
       "      <th>onehot_ExterQual_4</th>\n",
       "      <th>onehot_HeatingQC_5</th>\n",
       "      <th>onehot_Electrical_5</th>\n",
       "      <th>onehot_FullBath_1</th>\n",
       "      <th>onehot_FullBath_2</th>\n",
       "      <th>onehot_HalfBath_1</th>\n",
       "      <th>onehot_PavedDrive_3</th>\n",
       "      <th>...</th>\n",
       "      <th>diff_YearBuilt_YrSold</th>\n",
       "      <th>diff_YearRemodAdd_YearBuilt</th>\n",
       "      <th>diff_YearRemodAdd_GarageYrBlt</th>\n",
       "      <th>diff_YearRemodAdd_YrSold</th>\n",
       "      <th>diff_GarageYrBlt_YearBuilt</th>\n",
       "      <th>diff_GarageYrBlt_YearRemodAdd</th>\n",
       "      <th>diff_GarageYrBlt_YrSold</th>\n",
       "      <th>diff_YrSold_YearBuilt</th>\n",
       "      <th>diff_YrSold_YearRemodAdd</th>\n",
       "      <th>diff_YrSold_GarageYrBlt</th>\n",
       "    </tr>\n",
       "  </thead>\n",
       "  <tbody>\n",
       "    <tr>\n",
       "      <th>0</th>\n",
       "      <td>3</td>\n",
       "      <td>3</td>\n",
       "      <td>1.0</td>\n",
       "      <td>1.0</td>\n",
       "      <td>1.0</td>\n",
       "      <td>1.0</td>\n",
       "      <td>0.0</td>\n",
       "      <td>1.0</td>\n",
       "      <td>1.0</td>\n",
       "      <td>1.0</td>\n",
       "      <td>...</td>\n",
       "      <td>5</td>\n",
       "      <td>0</td>\n",
       "      <td>0.0</td>\n",
       "      <td>5</td>\n",
       "      <td>0.0</td>\n",
       "      <td>0.0</td>\n",
       "      <td>5.0</td>\n",
       "      <td>5</td>\n",
       "      <td>5</td>\n",
       "      <td>5.0</td>\n",
       "    </tr>\n",
       "    <tr>\n",
       "      <th>1</th>\n",
       "      <td>3</td>\n",
       "      <td>3</td>\n",
       "      <td>1.0</td>\n",
       "      <td>0.0</td>\n",
       "      <td>1.0</td>\n",
       "      <td>1.0</td>\n",
       "      <td>0.0</td>\n",
       "      <td>1.0</td>\n",
       "      <td>0.0</td>\n",
       "      <td>1.0</td>\n",
       "      <td>...</td>\n",
       "      <td>31</td>\n",
       "      <td>0</td>\n",
       "      <td>0.0</td>\n",
       "      <td>31</td>\n",
       "      <td>0.0</td>\n",
       "      <td>0.0</td>\n",
       "      <td>31.0</td>\n",
       "      <td>31</td>\n",
       "      <td>31</td>\n",
       "      <td>31.0</td>\n",
       "    </tr>\n",
       "    <tr>\n",
       "      <th>2</th>\n",
       "      <td>3</td>\n",
       "      <td>3</td>\n",
       "      <td>1.0</td>\n",
       "      <td>1.0</td>\n",
       "      <td>1.0</td>\n",
       "      <td>1.0</td>\n",
       "      <td>0.0</td>\n",
       "      <td>1.0</td>\n",
       "      <td>1.0</td>\n",
       "      <td>1.0</td>\n",
       "      <td>...</td>\n",
       "      <td>7</td>\n",
       "      <td>1</td>\n",
       "      <td>1.0</td>\n",
       "      <td>6</td>\n",
       "      <td>0.0</td>\n",
       "      <td>1.0</td>\n",
       "      <td>7.0</td>\n",
       "      <td>7</td>\n",
       "      <td>6</td>\n",
       "      <td>7.0</td>\n",
       "    </tr>\n",
       "    <tr>\n",
       "      <th>3</th>\n",
       "      <td>3</td>\n",
       "      <td>3</td>\n",
       "      <td>1.0</td>\n",
       "      <td>0.0</td>\n",
       "      <td>0.0</td>\n",
       "      <td>1.0</td>\n",
       "      <td>1.0</td>\n",
       "      <td>0.0</td>\n",
       "      <td>0.0</td>\n",
       "      <td>1.0</td>\n",
       "      <td>...</td>\n",
       "      <td>91</td>\n",
       "      <td>55</td>\n",
       "      <td>28.0</td>\n",
       "      <td>36</td>\n",
       "      <td>83.0</td>\n",
       "      <td>28.0</td>\n",
       "      <td>8.0</td>\n",
       "      <td>91</td>\n",
       "      <td>36</td>\n",
       "      <td>8.0</td>\n",
       "    </tr>\n",
       "    <tr>\n",
       "      <th>4</th>\n",
       "      <td>3</td>\n",
       "      <td>3</td>\n",
       "      <td>1.0</td>\n",
       "      <td>1.0</td>\n",
       "      <td>1.0</td>\n",
       "      <td>1.0</td>\n",
       "      <td>0.0</td>\n",
       "      <td>1.0</td>\n",
       "      <td>1.0</td>\n",
       "      <td>1.0</td>\n",
       "      <td>...</td>\n",
       "      <td>8</td>\n",
       "      <td>0</td>\n",
       "      <td>0.0</td>\n",
       "      <td>8</td>\n",
       "      <td>0.0</td>\n",
       "      <td>0.0</td>\n",
       "      <td>8.0</td>\n",
       "      <td>8</td>\n",
       "      <td>8</td>\n",
       "      <td>8.0</td>\n",
       "    </tr>\n",
       "  </tbody>\n",
       "</table>\n",
       "<p>5 rows × 414 columns</p>\n",
       "</div>"
      ],
      "text/plain": [
       "   GarageQual  GarageCond  onehot_LandSlope_3  onehot_ExterQual_4  \\\n",
       "0           3           3                 1.0                 1.0   \n",
       "1           3           3                 1.0                 0.0   \n",
       "2           3           3                 1.0                 1.0   \n",
       "3           3           3                 1.0                 0.0   \n",
       "4           3           3                 1.0                 1.0   \n",
       "\n",
       "   onehot_HeatingQC_5  onehot_Electrical_5  onehot_FullBath_1  \\\n",
       "0                 1.0                  1.0                0.0   \n",
       "1                 1.0                  1.0                0.0   \n",
       "2                 1.0                  1.0                0.0   \n",
       "3                 0.0                  1.0                1.0   \n",
       "4                 1.0                  1.0                0.0   \n",
       "\n",
       "   onehot_FullBath_2  onehot_HalfBath_1  onehot_PavedDrive_3  ...  \\\n",
       "0                1.0                1.0                  1.0  ...   \n",
       "1                1.0                0.0                  1.0  ...   \n",
       "2                1.0                1.0                  1.0  ...   \n",
       "3                0.0                0.0                  1.0  ...   \n",
       "4                1.0                1.0                  1.0  ...   \n",
       "\n",
       "   diff_YearBuilt_YrSold  diff_YearRemodAdd_YearBuilt  \\\n",
       "0                      5                            0   \n",
       "1                     31                            0   \n",
       "2                      7                            1   \n",
       "3                     91                           55   \n",
       "4                      8                            0   \n",
       "\n",
       "   diff_YearRemodAdd_GarageYrBlt  diff_YearRemodAdd_YrSold  \\\n",
       "0                            0.0                         5   \n",
       "1                            0.0                        31   \n",
       "2                            1.0                         6   \n",
       "3                           28.0                        36   \n",
       "4                            0.0                         8   \n",
       "\n",
       "   diff_GarageYrBlt_YearBuilt  diff_GarageYrBlt_YearRemodAdd  \\\n",
       "0                         0.0                            0.0   \n",
       "1                         0.0                            0.0   \n",
       "2                         0.0                            1.0   \n",
       "3                        83.0                           28.0   \n",
       "4                         0.0                            0.0   \n",
       "\n",
       "   diff_GarageYrBlt_YrSold  diff_YrSold_YearBuilt  diff_YrSold_YearRemodAdd  \\\n",
       "0                      5.0                      5                         5   \n",
       "1                     31.0                     31                        31   \n",
       "2                      7.0                      7                         6   \n",
       "3                      8.0                     91                        36   \n",
       "4                      8.0                      8                         8   \n",
       "\n",
       "   diff_YrSold_GarageYrBlt  \n",
       "0                      5.0  \n",
       "1                     31.0  \n",
       "2                      7.0  \n",
       "3                      8.0  \n",
       "4                      8.0  \n",
       "\n",
       "[5 rows x 414 columns]"
      ]
     },
     "execution_count": 30,
     "metadata": {},
     "output_type": "execute_result"
    }
   ],
   "source": [
    "train[to_drop].head()"
   ]
  },
  {
   "cell_type": "markdown",
   "metadata": {},
   "source": [
    "IMHO, maybe if we standardize/normalize these features, the result will differ.<br><br>\n",
    "The thing I know, I won't depend on these result thoroughly."
   ]
  },
  {
   "cell_type": "code",
   "execution_count": 31,
   "metadata": {
    "ExecuteTime": {
     "end_time": "2019-10-19T13:03:55.505844Z",
     "start_time": "2019-10-19T13:03:55.484501Z"
    }
   },
   "outputs": [],
   "source": [
    "with open('high_colinear_cols_to_drop.pkl', 'wb') as f:\n",
    "    pickle.dump(to_drop, f)"
   ]
  },
  {
   "cell_type": "code",
   "execution_count": 33,
   "metadata": {
    "ExecuteTime": {
     "end_time": "2019-10-19T13:04:41.565551Z",
     "start_time": "2019-10-19T13:04:41.558470Z"
    }
   },
   "outputs": [
    {
     "data": {
      "text/plain": [
       "764"
      ]
     },
     "execution_count": 33,
     "metadata": {},
     "output_type": "execute_result"
    }
   ],
   "source": [
    "# Number of remaining columns\n",
    "train.shape[1] - len(to_drop)"
   ]
  },
  {
   "cell_type": "markdown",
   "metadata": {},
   "source": [
    "##  Forward Feature Selection:\n",
    "For this notebook, I'll use RandomForest, to get some intuition about the features, but in the modeling section, I'll apply the same method for each model, and see how the result can differ."
   ]
  },
  {
   "cell_type": "code",
   "execution_count": 20,
   "metadata": {
    "ExecuteTime": {
     "end_time": "2019-10-19T12:26:45.948461Z",
     "start_time": "2019-10-19T12:26:45.875557Z"
    }
   },
   "outputs": [
    {
     "name": "stdout",
     "output_type": "stream",
     "text": [
      "~> [X_train] has \u001b[5m\u001b[7m\u001b[34m 1,168 \u001b[0m rows, and \u001b[5m\u001b[7m\u001b[34m 145 \u001b[0m columns.\n",
      "~> [X_test ] has \u001b[5m\u001b[7m\u001b[34m 292 \u001b[0m rows, and \u001b[5m\u001b[7m\u001b[34m 145 \u001b[0m columns.\n"
     ]
    }
   ],
   "source": [
    "from sklearn.ensemble import RandomForestClassifier\n",
    "from sklearn.model_selection import train_test_split\n",
    "from mlxtend.feature_selection import SequentialFeatureSelector as sfs\n",
    "\n",
    "\n",
    "# Train/test split\n",
    "X_train, X_test, y_train, y_test = train_test_split(\n",
    "    train[cols],\n",
    "    train_labels,\n",
    "    test_size=0.2,\n",
    "    random_state=42)\n",
    "\n",
    "y_train = y_train.ravel()\n",
    "y_test = y_test.ravel()\n",
    "\n",
    "shape(X_train, X_test)"
   ]
  },
  {
   "cell_type": "code",
   "execution_count": 34,
   "metadata": {
    "ExecuteTime": {
     "end_time": "2019-10-19T14:48:41.744078Z",
     "start_time": "2019-10-19T13:11:07.706027Z"
    }
   },
   "outputs": [
    {
     "name": "stderr",
     "output_type": "stream",
     "text": [
      "[Parallel(n_jobs=1)]: Using backend SequentialBackend with 1 concurrent workers.\n",
      "[Parallel(n_jobs=1)]: Done   1 out of   1 | elapsed:    2.6s remaining:    0.0s\n",
      "[Parallel(n_jobs=1)]: Done 145 out of 145 | elapsed:  2.6min finished\n",
      "\n",
      "[2019-10-19 15:13:41] Features: 1/50 -- score: -0.2304319661262452[Parallel(n_jobs=1)]: Using backend SequentialBackend with 1 concurrent workers.\n",
      "[Parallel(n_jobs=1)]: Done   1 out of   1 | elapsed:    1.1s remaining:    0.0s\n",
      "[Parallel(n_jobs=1)]: Done 144 out of 144 | elapsed:  2.7min finished\n",
      "\n",
      "[2019-10-19 15:16:21] Features: 2/50 -- score: -0.20705211463611498[Parallel(n_jobs=1)]: Using backend SequentialBackend with 1 concurrent workers.\n",
      "[Parallel(n_jobs=1)]: Done   1 out of   1 | elapsed:    1.2s remaining:    0.0s\n",
      "[Parallel(n_jobs=1)]: Done 143 out of 143 | elapsed:  2.8min finished\n",
      "\n",
      "[2019-10-19 15:19:11] Features: 3/50 -- score: -0.20138442433157264[Parallel(n_jobs=1)]: Using backend SequentialBackend with 1 concurrent workers.\n",
      "[Parallel(n_jobs=1)]: Done   1 out of   1 | elapsed:    1.4s remaining:    0.0s\n",
      "[Parallel(n_jobs=1)]: Done 142 out of 142 | elapsed:  3.3min finished\n",
      "\n",
      "[2019-10-19 15:22:26] Features: 4/50 -- score: -0.17561149093691825[Parallel(n_jobs=1)]: Using backend SequentialBackend with 1 concurrent workers.\n",
      "[Parallel(n_jobs=1)]: Done   1 out of   1 | elapsed:    1.5s remaining:    0.0s\n",
      "[Parallel(n_jobs=1)]: Done 141 out of 141 | elapsed:  3.4min finished\n",
      "\n",
      "[2019-10-19 15:25:51] Features: 5/50 -- score: -0.16287450883132654[Parallel(n_jobs=1)]: Using backend SequentialBackend with 1 concurrent workers.\n",
      "[Parallel(n_jobs=1)]: Done   1 out of   1 | elapsed:    1.5s remaining:    0.0s\n",
      "[Parallel(n_jobs=1)]: Done 140 out of 140 | elapsed:  3.6min finished\n",
      "\n",
      "[2019-10-19 15:29:26] Features: 6/50 -- score: -0.15744059249521786[Parallel(n_jobs=1)]: Using backend SequentialBackend with 1 concurrent workers.\n",
      "[Parallel(n_jobs=1)]: Done   1 out of   1 | elapsed:    1.6s remaining:    0.0s\n",
      "[Parallel(n_jobs=1)]: Done 139 out of 139 | elapsed:  3.7min finished\n",
      "\n",
      "[2019-10-19 15:33:08] Features: 7/50 -- score: -0.1538361032617052[Parallel(n_jobs=1)]: Using backend SequentialBackend with 1 concurrent workers.\n",
      "[Parallel(n_jobs=1)]: Done   1 out of   1 | elapsed:    1.6s remaining:    0.0s\n",
      "[Parallel(n_jobs=1)]: Done 138 out of 138 | elapsed:  3.7min finished\n",
      "\n",
      "[2019-10-19 15:36:51] Features: 8/50 -- score: -0.1516024469803439[Parallel(n_jobs=1)]: Using backend SequentialBackend with 1 concurrent workers.\n",
      "[Parallel(n_jobs=1)]: Done   1 out of   1 | elapsed:    1.6s remaining:    0.0s\n",
      "[Parallel(n_jobs=1)]: Done 137 out of 137 | elapsed:  3.8min finished\n",
      "\n",
      "[2019-10-19 15:40:36] Features: 9/50 -- score: -0.1483181083965023[Parallel(n_jobs=1)]: Using backend SequentialBackend with 1 concurrent workers.\n",
      "[Parallel(n_jobs=1)]: Done   1 out of   1 | elapsed:    2.2s remaining:    0.0s\n",
      "[Parallel(n_jobs=1)]: Done 136 out of 136 | elapsed:  4.0min finished\n",
      "\n",
      "[2019-10-19 15:44:38] Features: 10/50 -- score: -0.14672219360932187[Parallel(n_jobs=1)]: Using backend SequentialBackend with 1 concurrent workers.\n",
      "[Parallel(n_jobs=1)]: Done   1 out of   1 | elapsed:    2.2s remaining:    0.0s\n",
      "[Parallel(n_jobs=1)]: Done 135 out of 135 | elapsed:  4.2min finished\n",
      "\n",
      "[2019-10-19 15:48:48] Features: 11/50 -- score: -0.14627424165179875[Parallel(n_jobs=1)]: Using backend SequentialBackend with 1 concurrent workers.\n",
      "[Parallel(n_jobs=1)]: Done   1 out of   1 | elapsed:    2.3s remaining:    0.0s\n",
      "[Parallel(n_jobs=1)]: Done 134 out of 134 | elapsed:  4.4min finished\n",
      "\n",
      "[2019-10-19 15:53:13] Features: 12/50 -- score: -0.1459097813938514[Parallel(n_jobs=1)]: Using backend SequentialBackend with 1 concurrent workers.\n",
      "[Parallel(n_jobs=1)]: Done   1 out of   1 | elapsed:    1.9s remaining:    0.0s\n",
      "[Parallel(n_jobs=1)]: Done 133 out of 133 | elapsed:  4.4min finished\n",
      "\n",
      "[2019-10-19 15:57:34] Features: 13/50 -- score: -0.14433563414577116[Parallel(n_jobs=1)]: Using backend SequentialBackend with 1 concurrent workers.\n",
      "[Parallel(n_jobs=1)]: Done   1 out of   1 | elapsed:    2.1s remaining:    0.0s\n",
      "[Parallel(n_jobs=1)]: Done 132 out of 132 | elapsed:  4.5min finished\n",
      "\n",
      "[2019-10-19 16:02:05] Features: 14/50 -- score: -0.14289459917905192[Parallel(n_jobs=1)]: Using backend SequentialBackend with 1 concurrent workers.\n",
      "[Parallel(n_jobs=1)]: Done   1 out of   1 | elapsed:    2.0s remaining:    0.0s\n",
      "[Parallel(n_jobs=1)]: Done 131 out of 131 | elapsed:  4.4min finished\n",
      "\n",
      "[2019-10-19 16:06:29] Features: 15/50 -- score: -0.14264933337831093[Parallel(n_jobs=1)]: Using backend SequentialBackend with 1 concurrent workers.\n",
      "[Parallel(n_jobs=1)]: Done   1 out of   1 | elapsed:    2.1s remaining:    0.0s\n",
      "[Parallel(n_jobs=1)]: Done 130 out of 130 | elapsed:  4.5min finished\n",
      "\n",
      "[2019-10-19 16:10:59] Features: 16/50 -- score: -0.14231887733754078[Parallel(n_jobs=1)]: Using backend SequentialBackend with 1 concurrent workers.\n",
      "[Parallel(n_jobs=1)]: Done   1 out of   1 | elapsed:    3.3s remaining:    0.0s\n",
      "[Parallel(n_jobs=1)]: Done 129 out of 129 | elapsed:  4.8min finished\n",
      "\n",
      "[2019-10-19 16:15:49] Features: 17/50 -- score: -0.14250664397056806[Parallel(n_jobs=1)]: Using backend SequentialBackend with 1 concurrent workers.\n",
      "[Parallel(n_jobs=1)]: Done   1 out of   1 | elapsed:    2.1s remaining:    0.0s\n",
      "[Parallel(n_jobs=1)]: Done 128 out of 128 | elapsed:  4.7min finished\n",
      "\n",
      "[2019-10-19 16:20:32] Features: 18/50 -- score: -0.14211309548247156[Parallel(n_jobs=1)]: Using backend SequentialBackend with 1 concurrent workers.\n",
      "[Parallel(n_jobs=1)]: Done   1 out of   1 | elapsed:    2.2s remaining:    0.0s\n",
      "[Parallel(n_jobs=1)]: Done 127 out of 127 | elapsed:  4.6min finished\n",
      "\n",
      "[2019-10-19 16:25:09] Features: 19/50 -- score: -0.1424654893857353[Parallel(n_jobs=1)]: Using backend SequentialBackend with 1 concurrent workers.\n",
      "[Parallel(n_jobs=1)]: Done   1 out of   1 | elapsed:    2.2s remaining:    0.0s\n",
      "[Parallel(n_jobs=1)]: Done 126 out of 126 | elapsed:  4.9min finished\n",
      "\n",
      "[2019-10-19 16:30:06] Features: 20/50 -- score: -0.14263027016585927[Parallel(n_jobs=1)]: Using backend SequentialBackend with 1 concurrent workers.\n",
      "[Parallel(n_jobs=1)]: Done   1 out of   1 | elapsed:    2.4s remaining:    0.0s\n",
      "[Parallel(n_jobs=1)]: Done 125 out of 125 | elapsed:  5.2min finished\n",
      "\n",
      "[2019-10-19 16:35:16] Features: 21/50 -- score: -0.14279424122440904[Parallel(n_jobs=1)]: Using backend SequentialBackend with 1 concurrent workers.\n",
      "[Parallel(n_jobs=1)]: Done   1 out of   1 | elapsed:    2.3s remaining:    0.0s\n",
      "[Parallel(n_jobs=1)]: Done 124 out of 124 | elapsed:  4.9min finished\n",
      "\n",
      "[2019-10-19 16:40:08] Features: 22/50 -- score: -0.14327670768859116[Parallel(n_jobs=1)]: Using backend SequentialBackend with 1 concurrent workers.\n",
      "[Parallel(n_jobs=1)]: Done   1 out of   1 | elapsed:    2.3s remaining:    0.0s\n",
      "[Parallel(n_jobs=1)]: Done 123 out of 123 | elapsed:  5.0min finished\n",
      "\n",
      "[2019-10-19 16:45:11] Features: 23/50 -- score: -0.14304789165576198[Parallel(n_jobs=1)]: Using backend SequentialBackend with 1 concurrent workers.\n",
      "[Parallel(n_jobs=1)]: Done   1 out of   1 | elapsed:    2.4s remaining:    0.0s\n",
      "\n",
      "STOPPING EARLY DUE TO KEYBOARD INTERRUPT..."
     ]
    }
   ],
   "source": [
    "# Build RF classifier to use in feature selection\n",
    "clf = RFR(n_estimators=100, n_jobs=-1)\n",
    "\n",
    "# Build step forward feature selection\n",
    "sfs1 = sfs(clf,\n",
    "           k_features=50,\n",
    "           forward=True,\n",
    "           floating=False,\n",
    "           verbose=2,\n",
    "           scoring=scorer,\n",
    "           cv=5)\n",
    "\n",
    "# Perform SFFS\n",
    "sfs1 = sfs1.fit(X_train, np.log1p(y_train))"
   ]
  },
  {
   "cell_type": "code",
   "execution_count": 35,
   "metadata": {
    "ExecuteTime": {
     "end_time": "2019-10-19T14:48:59.791097Z",
     "start_time": "2019-10-19T14:48:52.488615Z"
    }
   },
   "outputs": [
    {
     "data": {
      "text/plain": [
       "(<Figure size 432x288 with 1 Axes>,\n",
       " <matplotlib.axes._subplots.AxesSubplot at 0x7f94f5cba2e8>)"
      ]
     },
     "execution_count": 35,
     "metadata": {},
     "output_type": "execute_result"
    },
    {
     "data": {
      "text/plain": [
       "<Figure size 1152x432 with 0 Axes>"
      ]
     },
     "metadata": {},
     "output_type": "display_data"
    },
    {
     "data": {
      "image/png": "[encoded data removed]",
      "text/plain": [
       "<Figure size 432x288 with 1 Axes>"
      ]
     },
     "metadata": {
      "needs_background": "light"
     },
     "output_type": "display_data"
    }
   ],
   "source": [
    "from mlxtend.plotting import plot_sequential_feature_selection as plt_sfs\n",
    "\n",
    "plt.figure(figsize=(16, 6))\n",
    "plt_sfs(sfs1.get_metric_dict(), kind='std_dev')"
   ]
  },
  {
   "cell_type": "code",
   "execution_count": 36,
   "metadata": {
    "ExecuteTime": {
     "end_time": "2019-10-19T14:49:33.260419Z",
     "start_time": "2019-10-19T14:49:32.619216Z"
    }
   },
   "outputs": [
    {
     "data": {
      "text/html": [
       "<div>\n",
       "<style scoped>\n",
       "    .dataframe tbody tr th:only-of-type {\n",
       "        vertical-align: middle;\n",
       "    }\n",
       "\n",
       "    .dataframe tbody tr th {\n",
       "        vertical-align: top;\n",
       "    }\n",
       "\n",
       "    .dataframe thead th {\n",
       "        text-align: right;\n",
       "    }\n",
       "</style>\n",
       "<table border=\"1\" class=\"dataframe\">\n",
       "  <thead>\n",
       "    <tr style=\"text-align: right;\">\n",
       "      <th></th>\n",
       "      <th>avg_score</th>\n",
       "      <th>ci_bound</th>\n",
       "      <th>cv_scores</th>\n",
       "      <th>feature_idx</th>\n",
       "      <th>feature_names</th>\n",
       "      <th>std_dev</th>\n",
       "      <th>std_err</th>\n",
       "    </tr>\n",
       "  </thead>\n",
       "  <tbody>\n",
       "    <tr>\n",
       "      <th>19</th>\n",
       "      <td>-0.142465</td>\n",
       "      <td>0.0168631</td>\n",
       "      <td>[-0.1386559852343733, -0.15457345383535787, -0...</td>\n",
       "      <td>(6, 9, 17, 30, 33, 34, 37, 41, 42, 60, 76, 78,...</td>\n",
       "      <td>(Neighborhood, BldgType, GarageType, TotalBsmt...</td>\n",
       "      <td>0.0167372</td>\n",
       "      <td>0.00836859</td>\n",
       "    </tr>\n",
       "    <tr>\n",
       "      <th>20</th>\n",
       "      <td>-0.14263</td>\n",
       "      <td>0.0150562</td>\n",
       "      <td>[-0.14089129643671658, -0.150269453092661, -0....</td>\n",
       "      <td>(6, 9, 17, 30, 33, 34, 37, 41, 42, 60, 76, 78,...</td>\n",
       "      <td>(Neighborhood, BldgType, GarageType, TotalBsmt...</td>\n",
       "      <td>0.0149438</td>\n",
       "      <td>0.00747189</td>\n",
       "    </tr>\n",
       "    <tr>\n",
       "      <th>21</th>\n",
       "      <td>-0.142794</td>\n",
       "      <td>0.0150271</td>\n",
       "      <td>[-0.13416625989958422, -0.1529236520986109, -0...</td>\n",
       "      <td>(6, 9, 17, 30, 33, 34, 37, 41, 42, 60, 76, 78,...</td>\n",
       "      <td>(Neighborhood, BldgType, GarageType, TotalBsmt...</td>\n",
       "      <td>0.0149149</td>\n",
       "      <td>0.00745745</td>\n",
       "    </tr>\n",
       "    <tr>\n",
       "      <th>22</th>\n",
       "      <td>-0.143277</td>\n",
       "      <td>0.0150414</td>\n",
       "      <td>[-0.13995301835901505, -0.1488070495057099, -0...</td>\n",
       "      <td>(6, 9, 17, 30, 33, 34, 37, 41, 42, 60, 76, 78,...</td>\n",
       "      <td>(Neighborhood, BldgType, GarageType, TotalBsmt...</td>\n",
       "      <td>0.0149291</td>\n",
       "      <td>0.00746454</td>\n",
       "    </tr>\n",
       "    <tr>\n",
       "      <th>23</th>\n",
       "      <td>-0.143048</td>\n",
       "      <td>0.0152567</td>\n",
       "      <td>[-0.14153508715780935, -0.15144812662584292, -...</td>\n",
       "      <td>(6, 9, 17, 30, 33, 34, 37, 41, 42, 60, 76, 78,...</td>\n",
       "      <td>(Neighborhood, BldgType, GarageType, TotalBsmt...</td>\n",
       "      <td>0.0151428</td>\n",
       "      <td>0.00757139</td>\n",
       "    </tr>\n",
       "  </tbody>\n",
       "</table>\n",
       "</div>"
      ],
      "text/plain": [
       "   avg_score   ci_bound                                          cv_scores  \\\n",
       "19 -0.142465  0.0168631  [-0.1386559852343733, -0.15457345383535787, -0...   \n",
       "20  -0.14263  0.0150562  [-0.14089129643671658, -0.150269453092661, -0....   \n",
       "21 -0.142794  0.0150271  [-0.13416625989958422, -0.1529236520986109, -0...   \n",
       "22 -0.143277  0.0150414  [-0.13995301835901505, -0.1488070495057099, -0...   \n",
       "23 -0.143048  0.0152567  [-0.14153508715780935, -0.15144812662584292, -...   \n",
       "\n",
       "                                          feature_idx  \\\n",
       "19  (6, 9, 17, 30, 33, 34, 37, 41, 42, 60, 76, 78,...   \n",
       "20  (6, 9, 17, 30, 33, 34, 37, 41, 42, 60, 76, 78,...   \n",
       "21  (6, 9, 17, 30, 33, 34, 37, 41, 42, 60, 76, 78,...   \n",
       "22  (6, 9, 17, 30, 33, 34, 37, 41, 42, 60, 76, 78,...   \n",
       "23  (6, 9, 17, 30, 33, 34, 37, 41, 42, 60, 76, 78,...   \n",
       "\n",
       "                                        feature_names    std_dev     std_err  \n",
       "19  (Neighborhood, BldgType, GarageType, TotalBsmt...  0.0167372  0.00836859  \n",
       "20  (Neighborhood, BldgType, GarageType, TotalBsmt...  0.0149438  0.00747189  \n",
       "21  (Neighborhood, BldgType, GarageType, TotalBsmt...  0.0149149  0.00745745  \n",
       "22  (Neighborhood, BldgType, GarageType, TotalBsmt...  0.0149291  0.00746454  \n",
       "23  (Neighborhood, BldgType, GarageType, TotalBsmt...  0.0151428  0.00757139  "
      ]
     },
     "execution_count": 36,
     "metadata": {},
     "output_type": "execute_result"
    }
   ],
   "source": [
    "pd.DataFrame.from_dict(sfs1.get_metric_dict(confidence_interval=.9)).T.tail()"
   ]
  },
  {
   "cell_type": "markdown",
   "metadata": {},
   "source": [
    "# Dimensionality Reduction:"
   ]
  },
  {
   "cell_type": "code",
   "execution_count": null,
   "metadata": {},
   "outputs": [],
   "source": []
  }
 ],
 "metadata": {
  "hide_input": false,
  "kernelspec": {
   "display_name": "Python 3",
   "language": "python",
   "name": "python3"
  },
  "language_info": {
   "codemirror_mode": {
    "name": "ipython",
    "version": 3
   },
   "file_extension": ".py",
   "mimetype": "text/x-python",
   "name": "python",
   "nbconvert_exporter": "python",
   "pygments_lexer": "ipython3",
   "version": "3.6.7"
  },
  "toc": {
   "base_numbering": 1,
   "nav_menu": {},
   "number_sections": true,
   "sideBar": true,
   "skip_h1_title": false,
   "title_cell": "Table of Contents",
   "title_sidebar": "Contents",
   "toc_cell": false,
   "toc_position": {},
   "toc_section_display": true,
   "toc_window_display": false
  },
  "varInspector": {
   "cols": {
    "lenName": 16,
    "lenType": 16,
    "lenVar": 40
   },
   "kernels_config": {
    "python": {
     "delete_cmd_postfix": "",
     "delete_cmd_prefix": "del ",
     "library": "var_list.py",
     "varRefreshCmd": "print(var_dic_list())"
    },
    "r": {
     "delete_cmd_postfix": ") ",
     "delete_cmd_prefix": "rm(",
     "library": "var_list.r",
     "varRefreshCmd": "cat(var_dic_list()) "
    }
   },
   "types_to_exclude": [
    "module",
    "function",
    "builtin_function_or_method",
    "instance",
    "_Feature"
   ],
   "window_display": false
  }
 },
 "nbformat": 4,
 "nbformat_minor": 2
}
